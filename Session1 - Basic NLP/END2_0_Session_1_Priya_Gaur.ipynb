{
  "nbformat": 4,
  "nbformat_minor": 0,
  "metadata": {
    "colab": {
      "name": "END2.0 Session 1_Priya Gaur.ipynb",
      "provenance": [],
      "collapsed_sections": []
    },
    "kernelspec": {
      "name": "python3",
      "display_name": "Python 3"
    },
    "language_info": {
      "name": "python"
    }
  },
  "cells": [
    {
      "cell_type": "code",
      "metadata": {
        "colab": {
          "base_uri": "https://localhost:8080/"
        },
        "id": "GC_6PeobwwkH",
        "outputId": "306ec2d3-4122-450b-eb1a-d6d894174623"
      },
      "source": [
        "import torch\n",
        "from torch.autograd import Variable\n",
        "import torch.nn as nn\n",
        "import torch.nn.functional as F\n",
        "import torch.optim as optim\n",
        "import numpy as np\n",
        "import matplotlib.pyplot as plt\n",
        "%matplotlib inline\n",
        "torch.manual_seed(2)"
      ],
      "execution_count": null,
      "outputs": [
        {
          "output_type": "execute_result",
          "data": {
            "text/plain": [
              "<torch._C.Generator at 0x7fc124fa28d0>"
            ]
          },
          "metadata": {
            "tags": []
          },
          "execution_count": 9
        }
      ]
    },
    {
      "cell_type": "code",
      "metadata": {
        "id": "bL64bMTkw2GP"
      },
      "source": [
        "X = torch.Tensor([[0,0], [0,1], [1,0], [1,1]])\n",
        "Y = torch.Tensor([0, 1, 1, 0]).view(-1,1)"
      ],
      "execution_count": null,
      "outputs": []
    },
    {
      "cell_type": "code",
      "metadata": {
        "id": "aC82kEAIw3Wf"
      },
      "source": [
        "class XOR(nn.Module):\n",
        "    def __init__(self, input_dim = 2, output_dim=1):\n",
        "        super(XOR, self).__init__()\n",
        "        self.lin1 = nn.Linear(input_dim, 5)\n",
        "        self.lin2 = nn.Linear(5, 4)\n",
        "        self.lin3 = nn.Linear(4, output_dim)\n",
        "    \n",
        "    def forward(self, x):\n",
        "        x = self.lin1(x)\n",
        "        x = F.tanh(x)\n",
        "        x = self.lin2(x) \n",
        "        x = F.tanh(x)\n",
        "        x= self.lin3(x)\n",
        "        # x = F.tanh(x)\n",
        "        return x"
      ],
      "execution_count": null,
      "outputs": []
    },
    {
      "cell_type": "code",
      "metadata": {
        "colab": {
          "base_uri": "https://localhost:8080/"
        },
        "id": "8gQIQExYw65K",
        "outputId": "9f8e9c94-b390-4edf-f2f6-f53f407d1e92"
      },
      "source": [
        "model = XOR()\n",
        "print(model)\n",
        "from torchsummary import summary\n",
        "summary(model, (2,2))"
      ],
      "execution_count": null,
      "outputs": [
        {
          "output_type": "stream",
          "text": [
            "XOR(\n",
            "  (lin1): Linear(in_features=2, out_features=5, bias=True)\n",
            "  (lin2): Linear(in_features=5, out_features=4, bias=True)\n",
            "  (lin3): Linear(in_features=4, out_features=1, bias=True)\n",
            ")\n",
            "----------------------------------------------------------------\n",
            "        Layer (type)               Output Shape         Param #\n",
            "================================================================\n",
            "            Linear-1                 [-1, 2, 5]              15\n",
            "            Linear-2                 [-1, 2, 4]              24\n",
            "            Linear-3                 [-1, 2, 1]               5\n",
            "================================================================\n",
            "Total params: 44\n",
            "Trainable params: 44\n",
            "Non-trainable params: 0\n",
            "----------------------------------------------------------------\n",
            "Input size (MB): 0.00\n",
            "Forward/backward pass size (MB): 0.00\n",
            "Params size (MB): 0.00\n",
            "Estimated Total Size (MB): 0.00\n",
            "----------------------------------------------------------------\n"
          ],
          "name": "stdout"
        },
        {
          "output_type": "stream",
          "text": [
            "/usr/local/lib/python3.7/dist-packages/torch/nn/functional.py:1698: UserWarning: nn.functional.tanh is deprecated. Use torch.tanh instead.\n",
            "  warnings.warn(\"nn.functional.tanh is deprecated. Use torch.tanh instead.\")\n"
          ],
          "name": "stderr"
        }
      ]
    },
    {
      "cell_type": "code",
      "metadata": {
        "id": "yeotEq19x6XF"
      },
      "source": [
        "def weights_init(model):\n",
        "    for m in model.modules():\n",
        "        if isinstance(m, nn.Linear):\n",
        "            # initialize the weight tensor, here we use a normal distribution\n",
        "            m.weight.data.normal_(0, 1)\n",
        "\n",
        "weights_init(model)"
      ],
      "execution_count": null,
      "outputs": []
    },
    {
      "cell_type": "code",
      "metadata": {
        "id": "WrD_sNzLx78e"
      },
      "source": [
        "loss_func = nn.L1Loss()"
      ],
      "execution_count": null,
      "outputs": []
    },
    {
      "cell_type": "code",
      "metadata": {
        "id": "-zvbrMd2x_lA"
      },
      "source": [
        "optimizer = optim.SGD(model.parameters(), lr=0.02, momentum=0.9)\n"
      ],
      "execution_count": null,
      "outputs": []
    },
    {
      "cell_type": "code",
      "metadata": {
        "colab": {
          "base_uri": "https://localhost:8080/"
        },
        "id": "q7tWa3D7yA5X",
        "outputId": "5dc3e0cb-eff7-461a-8ab2-5a00e3cb8c0b"
      },
      "source": [
        "epochs = 2001\n",
        "steps = X.size(0)\n",
        "for i in range(epochs):\n",
        "    for j in range(steps):\n",
        "        data_point = np.random.randint(X.size(0))\n",
        "        x_var = Variable(X[data_point], requires_grad=False)\n",
        "        y_var = Variable(Y[data_point], requires_grad=False)\n",
        "        \n",
        "        optimizer.zero_grad()\n",
        "        y_hat = model(x_var)\n",
        "        loss = loss_func.forward(y_hat, y_var)\n",
        "        loss.backward()\n",
        "        optimizer.step()\n",
        "        \n",
        "    if i % 50 == 0:\n",
        "        print( \"Epoch: {0}, Loss: {1}, \".format(i, loss.data.numpy()))"
      ],
      "execution_count": null,
      "outputs": [
        {
          "output_type": "stream",
          "text": [
            "/usr/local/lib/python3.7/dist-packages/torch/nn/functional.py:1698: UserWarning: nn.functional.tanh is deprecated. Use torch.tanh instead.\n",
            "  warnings.warn(\"nn.functional.tanh is deprecated. Use torch.tanh instead.\")\n"
          ],
          "name": "stderr"
        },
        {
          "output_type": "stream",
          "text": [
            "Epoch: 0, Loss: 0.04933905601501465, \n",
            "Epoch: 50, Loss: 0.8398778438568115, \n",
            "Epoch: 100, Loss: 0.5160422921180725, \n",
            "Epoch: 150, Loss: 0.5218842029571533, \n",
            "Epoch: 200, Loss: 0.3421030044555664, \n",
            "Epoch: 250, Loss: 0.19503432512283325, \n",
            "Epoch: 300, Loss: 0.045918628573417664, \n",
            "Epoch: 350, Loss: 0.17785881459712982, \n",
            "Epoch: 400, Loss: 0.0356287956237793, \n",
            "Epoch: 450, Loss: 0.46269822120666504, \n",
            "Epoch: 500, Loss: 0.01690077781677246, \n",
            "Epoch: 550, Loss: 0.25925755500793457, \n",
            "Epoch: 600, Loss: 0.3918866813182831, \n",
            "Epoch: 650, Loss: 0.13786262273788452, \n",
            "Epoch: 700, Loss: 0.27569466829299927, \n",
            "Epoch: 750, Loss: 0.17254209518432617, \n",
            "Epoch: 800, Loss: 0.26368725299835205, \n",
            "Epoch: 850, Loss: 0.001508556306362152, \n",
            "Epoch: 900, Loss: 0.2557676136493683, \n",
            "Epoch: 950, Loss: 0.4562048316001892, \n",
            "Epoch: 1000, Loss: 0.3102710247039795, \n",
            "Epoch: 1050, Loss: 0.3872546851634979, \n",
            "Epoch: 1100, Loss: 0.16094809770584106, \n",
            "Epoch: 1150, Loss: 0.02674064040184021, \n",
            "Epoch: 1200, Loss: 0.34945887327194214, \n",
            "Epoch: 1250, Loss: 0.1577901691198349, \n",
            "Epoch: 1300, Loss: 0.09908588230609894, \n",
            "Epoch: 1350, Loss: 0.22338414192199707, \n",
            "Epoch: 1400, Loss: 0.9434720873832703, \n",
            "Epoch: 1450, Loss: 0.023935317993164062, \n",
            "Epoch: 1500, Loss: 0.3116197884082794, \n",
            "Epoch: 1550, Loss: 0.005837082862854004, \n",
            "Epoch: 1600, Loss: 0.39786988496780396, \n",
            "Epoch: 1650, Loss: 0.0924079418182373, \n",
            "Epoch: 1700, Loss: 0.12041981518268585, \n",
            "Epoch: 1750, Loss: 0.20846028625965118, \n",
            "Epoch: 1800, Loss: 0.05548694729804993, \n",
            "Epoch: 1850, Loss: 0.3971732556819916, \n",
            "Epoch: 1900, Loss: 0.3639935553073883, \n",
            "Epoch: 1950, Loss: 0.31687989830970764, \n",
            "Epoch: 2000, Loss: 0.05007211118936539, \n"
          ],
          "name": "stdout"
        }
      ]
    },
    {
      "cell_type": "code",
      "metadata": {
        "id": "QV0dIdveyCRi"
      },
      "source": [
        ""
      ],
      "execution_count": null,
      "outputs": []
    }
  ]
}